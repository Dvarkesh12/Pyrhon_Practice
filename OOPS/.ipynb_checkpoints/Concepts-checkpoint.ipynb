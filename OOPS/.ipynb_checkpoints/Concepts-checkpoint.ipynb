{
 "cells": [
  {
   "cell_type": "code",
   "execution_count": 1,
   "id": "a7b28bf1-2ee3-4f78-bece-59c7a733d8af",
   "metadata": {
    "canvas": {
     "comments": [],
     "componentType": "CodeCell",
     "copiedOriginId": null,
     "diskcache": false,
     "headerColor": "inherit",
     "id": "091543d2-8d1f-42d1-95f8-c52ce776bd63",
     "isComponent": false,
     "name": "",
     "parents": []
    },
    "tags": []
   },
   "outputs": [
    {
     "data": {
      "text/plain": [
       "12"
      ]
     },
     "execution_count": 1,
     "metadata": {},
     "output_type": "execute_result"
    }
   ],
   "source": [
    "# Class & Object\n",
    "class Computer:\n",
    "    def __init__(self,cpu,gpu):\n",
    "        self.cpu = cpu\n",
    "        self.gpu = gpu\n",
    "        \n",
    "comp1 = Computer(12,15)\n",
    "comp1.cpu"
   ]
  },
  {
   "cell_type": "code",
   "execution_count": 2,
   "id": "0eb69a15-072e-4b98-a297-a50048c9b022",
   "metadata": {
    "canvas": {
     "comments": [],
     "componentType": "CodeCell",
     "copiedOriginId": null,
     "diskcache": false,
     "headerColor": "inherit",
     "id": "24f12a3f-5723-4ab9-bc64-988452adb8ef",
     "isComponent": false,
     "name": "",
     "parents": []
    }
   },
   "outputs": [
    {
     "data": {
      "text/plain": [
       "'__main__'"
      ]
     },
     "execution_count": 2,
     "metadata": {},
     "output_type": "execute_result"
    }
   ],
   "source": [
    "__name__"
   ]
  },
  {
   "cell_type": "code",
   "execution_count": 3,
   "id": "7e980b0f-7257-4c1e-8b05-08c53b3af07f",
   "metadata": {
    "canvas": {
     "comments": [],
     "componentType": "CodeCell",
     "copiedOriginId": null,
     "diskcache": false,
     "headerColor": "inherit",
     "id": "07134540-2b94-4c59-b026-fae91009e283",
     "isComponent": false,
     "name": "",
     "parents": []
    }
   },
   "outputs": [
    {
     "name": "stdout",
     "output_type": "stream",
     "text": [
      "1564553312240\n"
     ]
    }
   ],
   "source": [
    "class Computer:\n",
    "    pass\n",
    "\n",
    "c1 = Computer()\n",
    "print(id(c1))"
   ]
  },
  {
   "cell_type": "code",
   "execution_count": 4,
   "id": "b0d080ce-5e95-47c8-9ef7-1f1e56d714a3",
   "metadata": {
    "canvas": {
     "comments": [],
     "componentType": "CodeCell",
     "copiedOriginId": null,
     "diskcache": false,
     "headerColor": "inherit",
     "id": "de85a0cf-3e4e-4b41-ad22-8aa554bbf8e0",
     "isComponent": false,
     "name": "",
     "parents": []
    }
   },
   "outputs": [
    {
     "name": "stdout",
     "output_type": "stream",
     "text": [
      "Good\n",
      "14\n"
     ]
    }
   ],
   "source": [
    "# Can you please give me an example of static/class and instance class variable?\n",
    "class Dvarkesh:\n",
    "    # class variable\n",
    "    chara = 'Good'\n",
    "    \n",
    "    def __init__(self,age):\n",
    "        # instance variable\n",
    "        self.age = age\n",
    "        \n",
    "D1= Dvarkesh(14)\n",
    "print(D1.chara)\n",
    "print(D1.age)"
   ]
  },
  {
   "cell_type": "code",
   "execution_count": 6,
   "id": "8ceef7e7-8d2b-4e2e-ab12-2da5e308540f",
   "metadata": {
    "canvas": {
     "comments": [],
     "componentType": "CodeCell",
     "copiedOriginId": null,
     "diskcache": false,
     "headerColor": "inherit",
     "id": "7b81f88f-5abf-4824-8e4e-d8f73a0450ea",
     "isComponent": false,
     "name": "",
     "parents": []
    }
   },
   "outputs": [
    {
     "name": "stdout",
     "output_type": "stream",
     "text": [
      "Nerpinglai\n",
      "11.0\n",
      "10\n",
      "12\n",
      "purpose is to give information\n"
     ]
    }
   ],
   "source": [
    "# Can you implement 3 types of methods in python 1. static meathod 2. class method 3. instance method\n",
    "\n",
    "class Dvarkesh:\n",
    "    # class/static variable\n",
    "    Village = 'Nerpinglai'\n",
    "    # what is purpose of class method\n",
    "    # Class Method : it works with class variable\n",
    "    @classmethod\n",
    "    def Town(cls):\n",
    "        return cls.Village\n",
    "        \n",
    "    \n",
    "    def __init__(self, m1,m2,m3):\n",
    "        # Instance Variable\n",
    "        self.m1 = m1\n",
    "        self.m2 = m2\n",
    "        self.m3 = m3\n",
    "        \n",
    "    # Instance Method : this works with instance variable\n",
    "    def Avgage(self):\n",
    "        return (self.m1+self.m2+self.m3)/3\n",
    "    \n",
    "    # Instance Method : Accessor Method : to fetch the data\n",
    "    def get_m1(self):\n",
    "        return self.m1\n",
    "    \n",
    "    # Instance Method : Mutator Method : to modify the data\n",
    "    def set_m1(self,value):\n",
    "        self.m1 = value\n",
    "        return self.m1\n",
    "    \n",
    "    ## Static methods has nothing to do with class or instance variable\n",
    "    @staticmethod\n",
    "    def write():\n",
    "        print(\"purpose is to give information\")\n",
    "\n",
    "D1 = Dvarkesh(10,11,12)\n",
    "## Class method should not be specific to D1, it should work with all object\n",
    "## Hence call with class name\n",
    "print(Dvarkesh.Town())\n",
    "\n",
    "print(D1.Avgage())\n",
    "print(D1.get_m1())\n",
    "print(D1.set_m1(12))\n",
    "\n",
    "# call method without print so that it should not fetch None\n",
    "D1.write()"
   ]
  },
  {
   "cell_type": "code",
   "execution_count": 7,
   "id": "4fba9dc6-4a33-4f10-b987-27abfae9f49e",
   "metadata": {
    "canvas": {
     "comments": [],
     "componentType": "CodeCell",
     "copiedOriginId": null,
     "diskcache": false,
     "headerColor": "inherit",
     "id": "ed55d58b-7cbb-4eb8-a80c-626ba9a1657a",
     "isComponent": false,
     "name": "",
     "parents": []
    }
   },
   "outputs": [
    {
     "name": "stdout",
     "output_type": "stream",
     "text": [
      "10\n",
      "12\n"
     ]
    }
   ],
   "source": [
    "## Can you implement Inheritance in Python\n",
    "class A:\n",
    "    # print(\"its A\")\n",
    "    def __init__(self,age):\n",
    "        self.age = age \n",
    "    \n",
    "class B(A):\n",
    "    # print(\"its B\")\n",
    "    def __init__(self,age, work):\n",
    "        super().__init__(age)\n",
    "        self.work = work \n",
    "    \n",
    "b = B(10,12)\n",
    "print(b.age)\n",
    "print(b.work)"
   ]
  },
  {
   "cell_type": "code",
   "execution_count": 9,
   "id": "b9b5b8a2-3f02-4425-8c13-05655b9edfe9",
   "metadata": {
    "canvas": {
     "comments": [],
     "componentType": "CodeCell",
     "copiedOriginId": null,
     "diskcache": false,
     "headerColor": "inherit",
     "id": "7b530bbc-fc4a-490b-a9b6-727f97fe77c3",
     "isComponent": false,
     "name": "",
     "parents": []
    }
   },
   "outputs": [
    {
     "name": "stdout",
     "output_type": "stream",
     "text": [
      "It's Empty : I have written\n"
     ]
    }
   ],
   "source": [
    "## To read the  file\n",
    "f = open(\"xyz.txt\",'r')\n",
    "print(f.readline())"
   ]
  },
  {
   "cell_type": "code",
   "execution_count": 10,
   "id": "7e67b54d-3cd0-4455-b3b5-64eab4426224",
   "metadata": {
    "canvas": {
     "comments": [],
     "componentType": "CodeCell",
     "copiedOriginId": null,
     "diskcache": false,
     "headerColor": "inherit",
     "id": "93450cd3-9445-4302-be1a-cb806b6bb4ec",
     "isComponent": false,
     "name": "",
     "parents": []
    }
   },
   "outputs": [
    {
     "data": {
      "text/plain": [
       "16"
      ]
     },
     "execution_count": 10,
     "metadata": {},
     "output_type": "execute_result"
    }
   ],
   "source": [
    "# To write the file \n",
    "f = open(\"abc\",'w')\n",
    "f.write(\"apna banade piya\")"
   ]
  },
  {
   "cell_type": "code",
   "execution_count": 11,
   "id": "1701fdc3-82ff-49dc-8c24-3f526d085cf6",
   "metadata": {
    "canvas": {
     "comments": [],
     "componentType": "CodeCell",
     "copiedOriginId": null,
     "diskcache": false,
     "headerColor": "inherit",
     "id": "8f5cdbef-9111-43ba-ac0b-df5e40998eec",
     "isComponent": false,
     "name": "",
     "parents": []
    }
   },
   "outputs": [
    {
     "data": {
      "text/plain": [
       "23"
      ]
     },
     "execution_count": 11,
     "metadata": {},
     "output_type": "execute_result"
    }
   ],
   "source": [
    "## In order to append\n",
    "f = open(\"abc\",'a')\n",
    "f.write(\"snag rahiyo sath rahiyo\")"
   ]
  },
  {
   "cell_type": "code",
   "execution_count": 12,
   "id": "8dbe8e99-b630-4a9d-a4ef-a3cb3f4dbe4e",
   "metadata": {
    "canvas": {
     "comments": [],
     "componentType": "CodeCell",
     "copiedOriginId": null,
     "diskcache": false,
     "headerColor": "inherit",
     "id": "eaef8c86-5eed-46f4-bd8c-9e4aad4a792e",
     "isComponent": false,
     "name": "",
     "parents": []
    }
   },
   "outputs": [
    {
     "name": "stdout",
     "output_type": "stream",
     "text": [
      "apna banade piyasnag rahiyo sath rahiyo\n"
     ]
    }
   ],
   "source": [
    "f = open(\"abc\",'r')\n",
    "print(f.read())"
   ]
  },
  {
   "cell_type": "code",
   "execution_count": null,
   "id": "4b079843-68e6-490c-85ae-f34aa27d10c7",
   "metadata": {
    "canvas": {
     "comments": [],
     "componentType": "CodeCell",
     "copiedOriginId": null,
     "diskcache": false,
     "headerColor": "inherit",
     "id": "e5a2b956-7c07-40ad-b493-e62e5897201b",
     "isComponent": false,
     "name": "",
     "parents": []
    }
   },
   "outputs": [],
   "source": []
  }
 ],
 "metadata": {
  "canvas": {
   "colorPalette": [
    "inherit",
    "inherit",
    "inherit",
    "inherit",
    "inherit",
    "inherit",
    "inherit",
    "inherit",
    "inherit",
    "inherit"
   ],
   "parameters": []
  },
  "kernelspec": {
   "display_name": "Python 3 (ipykernel)",
   "language": "python",
   "name": "python3"
  },
  "language_info": {
   "codemirror_mode": {
    "name": "ipython",
    "version": 3
   },
   "file_extension": ".py",
   "mimetype": "text/x-python",
   "name": "python",
   "nbconvert_exporter": "python",
   "pygments_lexer": "ipython3",
   "version": "3.8.8"
  }
 },
 "nbformat": 4,
 "nbformat_minor": 5
}
