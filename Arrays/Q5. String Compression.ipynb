{
 "cells": [
  {
   "cell_type": "markdown",
   "id": "930e4a1e-7ad8-4bca-a0e9-c499743f7bbd",
   "metadata": {
    "canvas": {
     "comments": [],
     "componentType": "CodeCell",
     "copiedOriginId": null,
     "diskcache": false,
     "headerColor": "inherit",
     "id": "ab3f96a9-58d7-4acf-8240-22af02e33aed",
     "isComponent": false,
     "name": "",
     "parents": []
    },
    "tags": []
   },
   "source": [
    "## Q5. String Compression\n",
    "# https://leetcode.com/problems/string-compression/description/?envType=study-plan-v2&envId=leetcode-75"
   ]
  },
  {
   "cell_type": "code",
   "execution_count": null,
   "id": "acf40336-1e62-41c7-afc9-5f06a4b3cd75",
   "metadata": {
    "canvas": {
     "comments": [],
     "componentType": "CodeCell",
     "copiedOriginId": null,
     "diskcache": false,
     "headerColor": "inherit",
     "id": "0789f438-2aac-4a96-9c4f-b5f079a5a45e",
     "isComponent": false,
     "name": "",
     "parents": []
    }
   },
   "outputs": [],
   "source": [
    "## In question it is clearly mention to use constant space and create itself in char \n",
    "\n",
    "chars = [\"a\",\"a\",\"b\",\"b\",\"c\",\"c\",\"c\"]\n",
    "\n",
    "if len(chars)==1:\n",
    "    return chars\n",
    "\n",
    "\n",
    "\n",
    "\n",
    "\n",
    "\n",
    "\n"
   ]
  },
  {
   "cell_type": "code",
   "execution_count": null,
   "id": "3ac20c67-f43e-403c-8080-1b78c35e1698",
   "metadata": {
    "canvas": {
     "comments": [],
     "componentType": "CodeCell",
     "copiedOriginId": null,
     "diskcache": false,
     "headerColor": "inherit",
     "id": "0d0cf92b-0e02-4a5a-9500-9db8fcd4556c",
     "isComponent": false,
     "name": "",
     "parents": []
    }
   },
   "outputs": [
    {
     "ename": "SyntaxError",
     "evalue": "invalid syntax (1792807750.py, line 1)",
     "output_type": "error",
     "traceback": [
      "\u001b[1;36m  Input \u001b[1;32mIn [4]\u001b[1;36m\u001b[0m\n\u001b[1;33m    Failed Trials:\u001b[0m\n\u001b[1;37m           ^\u001b[0m\n\u001b[1;31mSyntaxError\u001b[0m\u001b[1;31m:\u001b[0m invalid syntax\n"
     ]
    }
   ],
   "source": [
    "Failed Trials:\n",
    "\n",
    "chars = [\"a\",\"a\",\"b\",\"b\",\"c\",\"c\",\"c\"]\n",
    "# chars = [\"a\"]\n",
    "# chars = [\"a\",\"b\",\"b\",\"b\",\"b\",\"b\",\"b\",\"b\",\"b\",\"b\",\"b\",\"b\",\"b\"]\n",
    "## If the lenghth of input is 1 then it should retrun the element itself\n",
    "\n",
    "def String_Compression(chars):\n",
    "    if len(chars)==1:\n",
    "        return chars\n",
    "    new_arr = []\n",
    "    l,r = 0,1\n",
    "    while l<len(chars)-1 and r<len(chars):\n",
    "        if chars[l] != chars[r]:\n",
    "            if chars[l] not in new_arr:\n",
    "                new_arr.append(chars[l])\n",
    "            l+=1\n",
    "            r+=1\n",
    "        else:\n",
    "            count = 1\n",
    "            while l<len(chars)-1 and r<len(chars) and chars[l] == chars[r]:\n",
    "                if chars[l] not in new_arr:\n",
    "                     new_arr.append(chars[l])\n",
    "                count+=1\n",
    "                l+=1\n",
    "                r+=1\n",
    "            new_arr.append(str(count))\n",
    "    return '{},{}'.format(len(new_arr),new_arr)\n",
    "\n",
    "String_Compression(chars)"
   ]
  },
  {
   "cell_type": "code",
   "execution_count": 38,
   "id": "bff38f9e-674f-4739-8268-d14a07303834",
   "metadata": {
    "canvas": {
     "comments": [],
     "componentType": "CodeCell",
     "copiedOriginId": null,
     "diskcache": false,
     "headerColor": "inherit",
     "id": "92d440f1-6851-45cb-af56-0345e6f561c5",
     "isComponent": false,
     "name": "",
     "parents": []
    }
   },
   "outputs": [
    {
     "name": "stdout",
     "output_type": "stream",
     "text": [
      "['a', 'b', 'c', 'd', 1]\n"
     ]
    }
   ],
   "source": [
    "chars = [\"a\",\"b\",\"c\",\"d\",\"d\"]\n",
    "\n",
    "new_arr = []\n",
    "l,r = 0,1\n",
    "while l<len(chars)-1 and r<len(chars):\n",
    "    if chars[l] != chars[r]:\n",
    "        new_arr.append(chars[l])\n",
    "        l+=1\n",
    "        r+=1\n",
    "    else:\n",
    "        count = 0\n",
    "        while l<len(chars)-1 and r<len(chars) and chars[l] == chars[r]:\n",
    "            if chars[l] not in new_arr:\n",
    "                 new_arr.append(chars[l])\n",
    "            count+=1\n",
    "            l+=1\n",
    "            r+=1\n",
    "        new_arr.append(count)\n",
    "        \n",
    "        \n",
    "print(new_arr)"
   ]
  },
  {
   "cell_type": "code",
   "execution_count": 41,
   "id": "63dcf4b1-52a8-4fda-8369-2362e74127db",
   "metadata": {
    "canvas": {
     "comments": [],
     "componentType": "CodeCell",
     "copiedOriginId": null,
     "diskcache": false,
     "headerColor": "inherit",
     "id": "cebd6594-568f-411b-89d7-b829db591c55",
     "isComponent": false,
     "name": "",
     "parents": []
    }
   },
   "outputs": [
    {
     "name": "stdout",
     "output_type": "stream",
     "text": [
      "0 1\n",
      "1 2\n",
      "2 3\n",
      "3 4\n",
      "4 5\n"
     ]
    }
   ],
   "source": [
    "# Can you please verify that while loop is working as you expected\n",
    "l,r = 0,1\n",
    "while l < 5:\n",
    "    print(l,r)\n",
    "    l+=1\n",
    "    r+=1\n",
    "    "
   ]
  },
  {
   "cell_type": "code",
   "execution_count": 59,
   "id": "6083e778-78c6-48b4-a0e3-fa6f575adbee",
   "metadata": {
    "canvas": {
     "comments": [],
     "componentType": "CodeCell",
     "copiedOriginId": null,
     "diskcache": false,
     "headerColor": "inherit",
     "id": "245fdf43-a15e-4125-afcf-712b57a3b5f5",
     "isComponent": false,
     "name": "",
     "parents": []
    }
   },
   "outputs": [
    {
     "name": "stdout",
     "output_type": "stream",
     "text": [
      "['a', '2', 'b', '2', 'c', '3']\n"
     ]
    },
    {
     "data": {
      "text/plain": [
       "6"
      ]
     },
     "execution_count": 59,
     "metadata": {},
     "output_type": "execute_result"
    }
   ],
   "source": [
    "\n",
    "chars = [\"a\",\"a\",\"b\",\"b\",\"c\",\"c\",\"c\"]\n",
    "\n",
    "def compress(chars):\n",
    "    retn = []\n",
    "    n = len(chars)\n",
    "    i = 0\n",
    "    num = 0\n",
    "    pre = None\n",
    "    while  i < n:\n",
    "        if pre is None:\n",
    "            pre = chars[i]\n",
    "            num = 1\n",
    "            i += 1\n",
    "            continue\n",
    "        if chars[i] == pre:\n",
    "            num += 1\n",
    "            i += 1\n",
    "            continue\n",
    "        else:\n",
    "            retn.append(pre)\n",
    "            if num != 1: retn.append(str(num))\n",
    "            num = 1\n",
    "            pre = chars[i]\n",
    "            i += 1\n",
    "            continue\n",
    "    retn.append(pre)\n",
    "    if num != 1: retn.append(str(num))\n",
    "    retn1 = ''.join(retn)\n",
    "    for idx in range(len(retn1)):\n",
    "        chars[idx] = retn1[idx]\n",
    "    for idx in range(n - len(retn1)):\n",
    "        chars = chars[:-1]\n",
    "    return len(chars)\n",
    "\n",
    "compress(chars)"
   ]
  },
  {
   "cell_type": "code",
   "execution_count": null,
   "id": "9ef34a37-aa63-4ea0-9100-47719d73d522",
   "metadata": {
    "canvas": {
     "comments": [],
     "componentType": "CodeCell",
     "copiedOriginId": null,
     "diskcache": false,
     "headerColor": "inherit",
     "id": "1fa93d63-00f3-4470-921a-d08234f2b861",
     "isComponent": false,
     "name": "",
     "parents": []
    }
   },
   "outputs": [],
   "source": []
  }
 ],
 "metadata": {
  "canvas": {
   "colorPalette": [
    "inherit",
    "inherit",
    "inherit",
    "inherit",
    "inherit",
    "inherit",
    "inherit",
    "inherit",
    "inherit",
    "inherit"
   ],
   "parameters": [],
   "version": "1.0"
  },
  "kernelspec": {
   "display_name": "Python 3 (ipykernel)",
   "language": "python",
   "name": "python3"
  },
  "language_info": {
   "codemirror_mode": {
    "name": "ipython",
    "version": 3
   },
   "file_extension": ".py",
   "mimetype": "text/x-python",
   "name": "python",
   "nbconvert_exporter": "python",
   "pygments_lexer": "ipython3",
   "version": "3.8.8"
  }
 },
 "nbformat": 4,
 "nbformat_minor": 5
}
