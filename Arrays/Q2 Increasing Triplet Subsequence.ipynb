{
 "cells": [
  {
   "cell_type": "markdown",
   "id": "cf21e7d8-f589-4807-a07e-45310b49910f",
   "metadata": {
    "canvas": {
     "comments": [],
     "componentType": "CodeCell",
     "copiedOriginId": null,
     "diskcache": false,
     "headerColor": "inherit",
     "id": "2d26cf4e-697a-4cdb-a50a-35e3bfddad7c",
     "isComponent": false,
     "name": "",
     "parents": []
    },
    "tags": []
   },
   "source": [
    "# 2.Increasing Triplet Subsequence\n",
    "# https://leetcode.com/problems/increasing-triplet-subsequence/description/?envType=study-plan-v2&envId=leetcode-75"
   ]
  },
  {
   "cell_type": "code",
   "execution_count": 15,
   "id": "2c4738a2-c3f5-4699-9580-fab00a56c5d8",
   "metadata": {
    "canvas": {
     "comments": [],
     "componentType": "CodeCell",
     "copiedOriginId": null,
     "diskcache": false,
     "headerColor": "inherit",
     "id": "b9087632-ff98-434c-86e2-e7a4f0c98c4c",
     "isComponent": false,
     "name": "",
     "parents": []
    }
   },
   "outputs": [
    {
     "name": "stdout",
     "output_type": "stream",
     "text": [
      "False\n"
     ]
    }
   ],
   "source": [
    "# nums = [1,2,3,4,5]\n",
    "# nums = [5,4,3,2,1]\n",
    "# nums = [2,1,5,0,4,6]\n",
    "nums = [20,100,10,12,5,13]  ## Failing for this ANS: True\n",
    "\n",
    "\n",
    "# Time complexity : O(n) and Space Complexity : O(n)\n",
    "def IncreaseTripletSubsequnce(nums):\n",
    "    ans = []\n",
    "    for i in range(len(nums)-2):\n",
    "        if i < i+1 < i+2 and nums[i] < nums[i+1] < nums[i+2]:\n",
    "            ans.append('True')\n",
    "        else:\n",
    "             ans.append('False') \n",
    "    \n",
    "    if 'True' in ans:\n",
    "        return True\n",
    "    else:\n",
    "        return False\n",
    "        \n",
    "        \n",
    "print(IncreaseTripletSubsequnce(nums))"
   ]
  },
  {
   "cell_type": "code",
   "execution_count": 17,
   "id": "3ab3afd5-0523-4abc-8423-e6bc51c78c50",
   "metadata": {
    "canvas": {
     "comments": [],
     "componentType": "CodeCell",
     "copiedOriginId": null,
     "diskcache": false,
     "headerColor": "inherit",
     "id": "80f93edd-1f7e-4d08-b060-9ed93f9598a2",
     "isComponent": false,
     "name": "",
     "parents": []
    }
   },
   "outputs": [
    {
     "name": "stdout",
     "output_type": "stream",
     "text": [
      "True\n"
     ]
    }
   ],
   "source": [
    "## The question was more deep, It does not only requires consecutive i, j, k to follow condition but also\n",
    "## But any i, j, k\n",
    "\n",
    "nums = [20,100,10,12,5,13]\n",
    "\n",
    "def Corrected_IncreaseTripletSubsequnce(nums):\n",
    "    if len(nums)<3:\n",
    "        return False\n",
    "    \n",
    "    left, mid = float('inf'), float('inf')\n",
    "    for i in range(len(nums)):\n",
    "        if  nums[i]> mid:\n",
    "            return True\n",
    "        if nums[i] < left:\n",
    "            left = nums[i]\n",
    "        elif nums[i]> left and nums[i]< mid:\n",
    "            mid = nums[i]\n",
    "    return False\n",
    "    \n",
    "print(Corrected_IncreaseTripletSubsequnce(nums))            "
   ]
  },
  {
   "cell_type": "code",
   "execution_count": null,
   "id": "ea4931b9-9087-4e9a-be7b-ca4ae09a468d",
   "metadata": {
    "canvas": {
     "comments": [],
     "componentType": "CodeCell",
     "copiedOriginId": null,
     "diskcache": false,
     "headerColor": "inherit",
     "id": "76d005ea-b89b-4a95-84aa-5ff82735a836",
     "isComponent": false,
     "name": "",
     "parents": []
    }
   },
   "outputs": [],
   "source": []
  }
 ],
 "metadata": {
  "canvas": {
   "colorPalette": [
    "inherit",
    "inherit",
    "inherit",
    "inherit",
    "inherit",
    "inherit",
    "inherit",
    "inherit",
    "inherit",
    "inherit"
   ],
   "parameters": [],
   "version": "1.0"
  },
  "kernelspec": {
   "display_name": "Python 3 (ipykernel)",
   "language": "python",
   "name": "python3"
  },
  "language_info": {
   "codemirror_mode": {
    "name": "ipython",
    "version": 3
   },
   "file_extension": ".py",
   "mimetype": "text/x-python",
   "name": "python",
   "nbconvert_exporter": "python",
   "pygments_lexer": "ipython3",
   "version": "3.8.8"
  }
 },
 "nbformat": 4,
 "nbformat_minor": 5
}
