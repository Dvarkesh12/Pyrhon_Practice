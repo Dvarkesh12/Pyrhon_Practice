{
 "cells": [
  {
   "cell_type": "markdown",
   "id": "c16daffe-de5a-46af-9374-1bdbb3e7de70",
   "metadata": {
    "canvas": {
     "comments": [],
     "componentType": "CodeCell",
     "copiedOriginId": null,
     "diskcache": false,
     "headerColor": "inherit",
     "id": "e1c9fe54-5f5b-4a21-9ce7-2655f738a6ff",
     "isComponent": false,
     "name": "",
     "parents": []
    },
    "tags": []
   },
   "source": [
    "## Greatest Common Divisor Of String\n",
    "\n",
    "## https://leetcode.com/studyplan/leetcode-75/"
   ]
  },
  {
   "cell_type": "code",
   "execution_count": null,
   "id": "84290423-44ce-4f82-a696-68d807dfc771",
   "metadata": {
    "canvas": {
     "comments": [],
     "componentType": "CodeCell",
     "copiedOriginId": null,
     "diskcache": false,
     "headerColor": "inherit",
     "id": "4fd12a4d-1ede-493b-9a9d-b03a2e29c425",
     "isComponent": false,
     "name": "",
     "parents": []
    }
   },
   "outputs": [],
   "source": [
    "str1 = \"ABCABC\", str2 = \"ABC\"\n",
    "# Output: \"ABC\"\n",
    "\n",
    "Input: str1 = \"ABABAB\", str2 = \"ABAB\"\n",
    "# Output: \"AB\"\n",
    "\n",
    "Input: str1 = \"LEET\", str2 = \"CODE\"\n",
    "# Output: \"\""
   ]
  },
  {
   "cell_type": "code",
   "execution_count": 8,
   "id": "21f513b7-89f2-4a10-a2ed-d0faae3d4f8d",
   "metadata": {
    "canvas": {
     "comments": [],
     "componentType": "CodeCell",
     "copiedOriginId": null,
     "diskcache": false,
     "headerColor": "inherit",
     "id": "6cf06a8f-0798-46ac-86b9-a65d9c476bf8",
     "isComponent": false,
     "name": "",
     "parents": []
    }
   },
   "outputs": [],
   "source": [
    "str1 = \"ABABABABABAB\"\n",
    "str2 = \"ABABAB\"\n",
    "\n",
    "common_string = []\n",
    "length = min(len(str1), len(str2))\n",
    "\n",
    "for i in range(length):\n",
    "    if str1[i]==str2[i]:\n",
    "        common_string.append(str1[i])\n",
    "    else:\n",
    "        pass"
   ]
  },
  {
   "cell_type": "code",
   "execution_count": 9,
   "id": "146b7b47-211b-42fd-90f8-2f335e88cd15",
   "metadata": {
    "canvas": {
     "comments": [],
     "componentType": "CodeCell",
     "copiedOriginId": null,
     "diskcache": false,
     "headerColor": "inherit",
     "id": "474aaf20-960d-484b-826d-c10debb9cbd1",
     "isComponent": false,
     "name": "",
     "parents": []
    }
   },
   "outputs": [
    {
     "data": {
      "text/plain": [
       "['A', 'B', 'A', 'B', 'A', 'B']"
      ]
     },
     "execution_count": 9,
     "metadata": {},
     "output_type": "execute_result"
    }
   ],
   "source": [
    "common_string"
   ]
  },
  {
   "cell_type": "code",
   "execution_count": null,
   "id": "fca55ed9-a6db-4ac5-8d4e-48dc5335acfe",
   "metadata": {
    "canvas": {
     "comments": [],
     "componentType": "CodeCell",
     "copiedOriginId": null,
     "diskcache": false,
     "headerColor": "inherit",
     "id": "65fe3072-7705-4bc2-984d-a2440dbd52e6",
     "isComponent": false,
     "name": "",
     "parents": []
    }
   },
   "outputs": [],
   "source": []
  }
 ],
 "metadata": {
  "canvas": {
   "colorPalette": [
    "inherit",
    "inherit",
    "inherit",
    "inherit",
    "inherit",
    "inherit",
    "inherit",
    "inherit",
    "inherit",
    "inherit"
   ],
   "parameters": [],
   "version": "1.0"
  },
  "kernelspec": {
   "display_name": "Python 3 (ipykernel)",
   "language": "python",
   "name": "python3"
  },
  "language_info": {
   "codemirror_mode": {
    "name": "ipython",
    "version": 3
   },
   "file_extension": ".py",
   "mimetype": "text/x-python",
   "name": "python",
   "nbconvert_exporter": "python",
   "pygments_lexer": "ipython3",
   "version": "3.8.8"
  }
 },
 "nbformat": 4,
 "nbformat_minor": 5
}
