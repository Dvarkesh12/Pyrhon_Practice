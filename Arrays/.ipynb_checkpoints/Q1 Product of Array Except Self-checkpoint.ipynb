{
 "cells": [
  {
   "cell_type": "markdown",
   "id": "56f169df-520a-4311-9a97-5d2055c4ede9",
   "metadata": {
    "canvas": {
     "comments": [],
     "componentType": "CodeCell",
     "copiedOriginId": null,
     "diskcache": false,
     "headerColor": "inherit",
     "id": "ad80f687-50b4-4800-8ed4-cf2938c7f463",
     "isComponent": false,
     "name": "",
     "parents": []
    },
    "tags": []
   },
   "source": [
    "## 1.Product of Array Except Self\n",
    "## https://leetcode.com/problems/product-of-array-except-self/description/?envType=study-plan-v2&envId=leetcode-75"
   ]
  },
  {
   "cell_type": "code",
   "execution_count": 1,
   "id": "bb6e0c55-c85d-4894-8940-1a3aed56d786",
   "metadata": {
    "canvas": {
     "comments": [],
     "componentType": "CodeCell",
     "copiedOriginId": null,
     "diskcache": false,
     "headerColor": "inherit",
     "id": "695e184a-3404-44be-a471-36520efd3fef",
     "isComponent": false,
     "name": "",
     "parents": []
    }
   },
   "outputs": [
    {
     "data": {
      "text/plain": [
       "[24, 12, 8, 6]"
      ]
     },
     "execution_count": 1,
     "metadata": {},
     "output_type": "execute_result"
    }
   ],
   "source": [
    "nums = [1,2,3,4]\n",
    "## This is O(n^2) : of no use\n",
    "def productself(nums):\n",
    "    new_arr = []\n",
    "    for i in range(len(nums)):\n",
    "        mul = 1\n",
    "        for j in range(len(nums)):\n",
    "            if j!=i:\n",
    "                mul*= nums[j]\n",
    "        new_arr.append(mul)\n",
    "    return new_arr\n",
    "\n",
    "productself(nums)"
   ]
  },
  {
   "cell_type": "code",
   "execution_count": 2,
   "id": "c956745e-d94e-418b-a873-f91448db87db",
   "metadata": {
    "canvas": {
     "comments": [],
     "componentType": "CodeCell",
     "copiedOriginId": null,
     "diskcache": false,
     "headerColor": "inherit",
     "id": "4310529c-2778-4ec8-a7f1-61e899e4fdaa",
     "isComponent": false,
     "name": "",
     "parents": []
    }
   },
   "outputs": [
    {
     "data": {
      "text/plain": [
       "[24, 12, 8, 6]"
      ]
     },
     "execution_count": 2,
     "metadata": {},
     "output_type": "execute_result"
    }
   ],
   "source": [
    "## Logic : calculate productfromstart & productfromend\n",
    "## Then productfromstart[i-1]*productfromstart[i+1]\n",
    "## O(n) code\n",
    "nums = [1,2,3,4]\n",
    "\n",
    "def productself_on(nums):\n",
    "    # productfromstart\n",
    "    # In order to store the values create list of values : 0\n",
    "    prod_start = [0 for i in range(len(nums))]\n",
    "    # for productfrom start first will be same\n",
    "    prod_start[0] = nums[0]\n",
    "    for i in range(1,len(nums)):\n",
    "        # product from start at each position\n",
    "        prod_start[i] = prod_start[i-1]* nums[i]\n",
    "\n",
    "\n",
    "    # productfromend\n",
    "    # In order to store the values create list of values : 0\n",
    "    prod_end = [0 for i in range(len(nums))]\n",
    "    # for productfromend : end element will be last element\n",
    "    n = len(nums)-1\n",
    "    prod_end[n] = nums[n]\n",
    "    for i in range(n-1,-1,-1):\n",
    "        # product from start at each position\n",
    "        prod_end[i] =  nums[i] * prod_end[i+1]\n",
    "        \n",
    "    prod_self = [0 for i in range(len(nums))]\n",
    "    for i in range(0,len(nums)):\n",
    "        if i==0:\n",
    "            prod_self[i] =prod_end[i+1]\n",
    "        elif i==len(nums)-1:\n",
    "            prod_self[i] = prod_start[i-1]\n",
    "        else:\n",
    "            prod_self[i] = prod_start[i-1]* prod_end[i+1]\n",
    "    \n",
    "    return prod_self\n",
    "    \n",
    "productself_on(nums)"
   ]
  },
  {
   "cell_type": "code",
   "execution_count": null,
   "id": "02ddc370-8c43-49c5-9f4a-3fe12ab4a509",
   "metadata": {
    "canvas": {
     "comments": [],
     "componentType": "CodeCell",
     "copiedOriginId": null,
     "diskcache": false,
     "headerColor": "inherit",
     "id": "3531d56b-eb81-4e8a-a1ce-560aa47f2a55",
     "isComponent": false,
     "name": "",
     "parents": []
    }
   },
   "outputs": [],
   "source": []
  }
 ],
 "metadata": {
  "canvas": {
   "colorPalette": [
    "inherit",
    "inherit",
    "inherit",
    "inherit",
    "inherit",
    "inherit",
    "inherit",
    "inherit",
    "inherit",
    "inherit"
   ],
   "parameters": []
  },
  "kernelspec": {
   "display_name": "Python 3 (ipykernel)",
   "language": "python",
   "name": "python3"
  },
  "language_info": {
   "codemirror_mode": {
    "name": "ipython",
    "version": 3
   },
   "file_extension": ".py",
   "mimetype": "text/x-python",
   "name": "python",
   "nbconvert_exporter": "python",
   "pygments_lexer": "ipython3",
   "version": "3.8.8"
  }
 },
 "nbformat": 4,
 "nbformat_minor": 5
}
