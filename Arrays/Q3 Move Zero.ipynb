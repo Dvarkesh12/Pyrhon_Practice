{
 "cells": [
  {
   "cell_type": "markdown",
   "id": "7ecd02bb-f177-43ed-a72b-6a25a7899a26",
   "metadata": {
    "canvas": {
     "comments": [],
     "componentType": "CodeCell",
     "copiedOriginId": null,
     "diskcache": false,
     "headerColor": "inherit",
     "id": "10c39644-bbe2-4701-bf78-5274d8842fd5",
     "isComponent": false,
     "name": "",
     "parents": []
    },
    "tags": []
   },
   "source": [
    "## Q3. Two Pointers : Move Zero\n",
    "\n",
    "## https://leetcode.com/problems/move-zeroes/description/?envType=study-plan-v2&envId=leetcode-75"
   ]
  },
  {
   "cell_type": "code",
   "execution_count": 3,
   "id": "ffdcc462-f142-48b8-8d90-8671092fcddd",
   "metadata": {
    "canvas": {
     "comments": [],
     "componentType": "CodeCell",
     "copiedOriginId": null,
     "diskcache": false,
     "headerColor": "inherit",
     "id": "dac74700-16d0-461c-b752-a4589466ecc0",
     "isComponent": false,
     "name": "",
     "parents": []
    }
   },
   "outputs": [
    {
     "data": {
      "text/plain": [
       "[1, 3, 12, 0, 0]"
      ]
     },
     "execution_count": 3,
     "metadata": {},
     "output_type": "execute_result"
    }
   ],
   "source": [
    "nums = [0,1,0,3,12]\n",
    "\n",
    "def BFA_MoveZero(nums):\n",
    "    copy = []\n",
    "    for i in range(len(nums)):\n",
    "        if nums[i] != 0:\n",
    "            copy.append(nums[i])\n",
    "\n",
    "    for i in range(len(nums)):      \n",
    "        if nums[i] == 0:\n",
    "            copy.append(nums[i])\n",
    "\n",
    "    return copy\n",
    "\n",
    "BFA_MoveZero(nums)"
   ]
  },
  {
   "cell_type": "code",
   "execution_count": 8,
   "id": "b5786029-ba51-45b3-b1f4-fea23ed2694e",
   "metadata": {
    "canvas": {
     "comments": [],
     "componentType": "CodeCell",
     "copiedOriginId": null,
     "diskcache": false,
     "headerColor": "inherit",
     "id": "50e79956-be1b-4335-86be-814945eb109b",
     "isComponent": false,
     "name": "",
     "parents": []
    }
   },
   "outputs": [
    {
     "data": {
      "text/plain": [
       "[1, 3, 12, 0, 0]"
      ]
     },
     "execution_count": 8,
     "metadata": {},
     "output_type": "execute_result"
    }
   ],
   "source": [
    "# Can I hold it in another variable and then delete it from list and \n",
    "# then again append to the lsit \n",
    "## Traversing through an array needs O(n) and .remove() can also take max of O(n)\n",
    "## Henec maximum complexity might be O(n^2)\n",
    "\n",
    "nums = [0,1,0,3,12]\n",
    "\n",
    "def BFA_MoveZero_1(nums):\n",
    "    for i in range(len(nums)):\n",
    "        if nums[i] == 0:\n",
    "            hold = nums[i]\n",
    "            nums.remove(nums[i])\n",
    "            nums.append(hold)\n",
    "        else:\n",
    "            pass\n",
    "    return nums\n",
    "    \n",
    "BFA_MoveZero_1(nums)"
   ]
  },
  {
   "cell_type": "code",
   "execution_count": 4,
   "id": "67f2c568-f725-422d-96d9-0d6ee0e6ce5a",
   "metadata": {
    "canvas": {
     "comments": [],
     "componentType": "CodeCell",
     "copiedOriginId": null,
     "diskcache": false,
     "headerColor": "inherit",
     "id": "91212069-15b0-4d60-906a-3a64961d11b7",
     "isComponent": false,
     "name": "",
     "parents": []
    }
   },
   "outputs": [
    {
     "data": {
      "text/plain": [
       "[0, 0, 3, 12]"
      ]
     },
     "execution_count": 4,
     "metadata": {},
     "output_type": "execute_result"
    }
   ],
   "source": [
    "## How can I delete any value from the array : correct\n",
    "nums = [0,1,0,3,12]\n",
    "nums.remove(nums[1])\n",
    "nums"
   ]
  },
  {
   "cell_type": "markdown",
   "id": "f91a3d7d-e891-4d5b-98dc-aa4868fe22d6",
   "metadata": {
    "canvas": {
     "comments": [],
     "componentType": "CodeCell",
     "copiedOriginId": null,
     "diskcache": false,
     "headerColor": "inherit",
     "id": "5515a68b-961b-4adf-8738-709d275869bb",
     "isComponent": false,
     "name": "",
     "parents": []
    }
   },
   "source": [
    "# Concept : Solve using Two Pointer"
   ]
  },
  {
   "cell_type": "code",
   "execution_count": 22,
   "id": "42690980-e224-46a7-8301-9098adda95f8",
   "metadata": {
    "canvas": {
     "comments": [],
     "componentType": "CodeCell",
     "copiedOriginId": null,
     "diskcache": false,
     "headerColor": "inherit",
     "id": "99ed2fcf-4b33-4a50-b0c1-e90a3513220a",
     "isComponent": false,
     "name": "",
     "parents": []
    }
   },
   "outputs": [],
   "source": [
    "## This does pricely in time complexity of O(n) and Space Complexity of 0(1)\n",
    "nums = [0,1,0,3,12]\n",
    "\n",
    "def MoveZero_TwoPointer(nums):\n",
    "    l = 0\n",
    "    for r in range(1,len(nums)):\n",
    "        print(\"r:\",r, \"nums[r]:\", nums[r])\n",
    "        if nums[r]:\n",
    "            nums[l], nums[r] = nums[r], nums[l]\n",
    "            l+=1\n",
    "    return nums\n",
    "    "
   ]
  },
  {
   "cell_type": "code",
   "execution_count": 23,
   "id": "4d044d21-930b-48bf-9c83-fbf69ffd087f",
   "metadata": {
    "canvas": {
     "comments": [],
     "componentType": "CodeCell",
     "copiedOriginId": null,
     "diskcache": false,
     "headerColor": "inherit",
     "id": "41cb59d6-4208-4c30-9ba6-89bd1d23fe0b",
     "isComponent": false,
     "name": "",
     "parents": []
    }
   },
   "outputs": [
    {
     "name": "stdout",
     "output_type": "stream",
     "text": [
      "r: 1 nums[r]: 1\n",
      "r: 2 nums[r]: 0\n",
      "r: 3 nums[r]: 3\n",
      "r: 4 nums[r]: 12\n"
     ]
    },
    {
     "data": {
      "text/plain": [
       "[1, 3, 12, 0, 0]"
      ]
     },
     "execution_count": 23,
     "metadata": {},
     "output_type": "execute_result"
    }
   ],
   "source": [
    "MoveZero_TwoPointer(nums)"
   ]
  },
  {
   "cell_type": "code",
   "execution_count": null,
   "id": "fe536e4e-4f90-4323-b418-d6e1f6ba7583",
   "metadata": {
    "canvas": {
     "comments": [],
     "componentType": "CodeCell",
     "copiedOriginId": null,
     "diskcache": false,
     "headerColor": "inherit",
     "id": "dcba2094-cf3c-417f-98a0-451a5cadeb34",
     "isComponent": false,
     "name": "",
     "parents": []
    }
   },
   "outputs": [],
   "source": []
  }
 ],
 "metadata": {
  "canvas": {
   "colorPalette": [
    "inherit",
    "inherit",
    "inherit",
    "inherit",
    "inherit",
    "inherit",
    "inherit",
    "inherit",
    "inherit",
    "inherit"
   ],
   "parameters": [],
   "version": "1.0"
  },
  "kernelspec": {
   "display_name": "Python 3 (ipykernel)",
   "language": "python",
   "name": "python3"
  },
  "language_info": {
   "codemirror_mode": {
    "name": "ipython",
    "version": 3
   },
   "file_extension": ".py",
   "mimetype": "text/x-python",
   "name": "python",
   "nbconvert_exporter": "python",
   "pygments_lexer": "ipython3",
   "version": "3.8.8"
  }
 },
 "nbformat": 4,
 "nbformat_minor": 5
}
