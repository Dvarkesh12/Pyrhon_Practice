{
 "cells": [
  {
   "cell_type": "markdown",
   "id": "52cd892d-dd5c-408a-91dd-aefc03da6c95",
   "metadata": {
    "canvas": {
     "comments": [],
     "componentType": "CodeCell",
     "copiedOriginId": null,
     "diskcache": false,
     "headerColor": "inherit",
     "id": "1599d9ec-3603-4c28-9372-6b62097498a8",
     "isComponent": false,
     "name": "",
     "parents": []
    },
    "tags": []
   },
   "source": [
    "## Q4. Is Subsequence\n",
    "## https://leetcode.com/problems/is-subsequence/description/?envType=study-plan-v2&envId=leetcode-75"
   ]
  },
  {
   "cell_type": "code",
   "execution_count": 44,
   "id": "9d2e4182-fbf1-4ece-b733-9ec3ce4a4ec3",
   "metadata": {
    "canvas": {
     "comments": [],
     "componentType": "CodeCell",
     "copiedOriginId": null,
     "diskcache": false,
     "headerColor": "inherit",
     "id": "8488caf6-c5b2-4f95-88e6-672c17670417",
     "isComponent": false,
     "name": "",
     "parents": []
    }
   },
   "outputs": [],
   "source": [
    "s = \"abc\"\n",
    "t = \"ahbgdc\"\n",
    "# s = \"axc\", t = \"ahbgdc\""
   ]
  },
  {
   "cell_type": "code",
   "execution_count": 39,
   "id": "98f680e1-76c4-4955-a280-0cd7181d3d00",
   "metadata": {
    "canvas": {
     "comments": [],
     "componentType": "CodeCell",
     "copiedOriginId": null,
     "diskcache": false,
     "headerColor": "inherit",
     "id": "9823b20c-7d92-485c-a153-c7030bc74bdd",
     "isComponent": false,
     "name": "",
     "parents": []
    }
   },
   "outputs": [
    {
     "data": {
      "text/plain": [
       "'am'"
      ]
     },
     "execution_count": 39,
     "metadata": {},
     "output_type": "execute_result"
    }
   ],
   "source": [
    "## Very Ip Concept : [0:2] it's taking values 0,1 only\n",
    "'amaravati'[0:2]"
   ]
  },
  {
   "cell_type": "code",
   "execution_count": 43,
   "id": "259febd7-7970-41c7-b2a4-12485fc12b48",
   "metadata": {
    "canvas": {
     "comments": [],
     "componentType": "CodeCell",
     "copiedOriginId": null,
     "diskcache": false,
     "headerColor": "inherit",
     "id": "88daf34b-9157-47ac-8244-a66e64cea04e",
     "isComponent": false,
     "name": "",
     "parents": []
    }
   },
   "outputs": [
    {
     "data": {
      "text/plain": [
       "False"
      ]
     },
     "execution_count": 43,
     "metadata": {},
     "output_type": "execute_result"
    }
   ],
   "source": [
    "## BFA\n",
    "## I can find all the possible subsequencs of current 't' string first\n",
    "## Then find if the 's' exist in it\n",
    "## Which can be the subsequences : 'a',..., 'ah',.., \n",
    "### This honestly is wrong and half of the solution\n",
    "def IsSubsequence(s:str,t:str):\n",
    "    subsequences = []\n",
    "    for i in range(len(t)+1):\n",
    "        for j in range(i, len(t)+1):\n",
    "            # print(\"i,j: \", i,j)\n",
    "            subsequences.append(t[i:j])\n",
    "\n",
    "    if s in subsequences:\n",
    "        return True \n",
    "    else: \n",
    "        return False\n",
    "    \n",
    "IsSubsequence(s,t)"
   ]
  },
  {
   "cell_type": "code",
   "execution_count": 41,
   "id": "c756fb64-e347-473f-850b-92d2496bbd19",
   "metadata": {
    "canvas": {
     "comments": [],
     "componentType": "CodeCell",
     "copiedOriginId": null,
     "diskcache": false,
     "headerColor": "inherit",
     "id": "166620c4-44e1-40dd-9da4-897962781619",
     "isComponent": false,
     "name": "",
     "parents": []
    }
   },
   "outputs": [
    {
     "data": {
      "text/plain": [
       "['',\n",
       " 'a',\n",
       " 'ah',\n",
       " 'ahb',\n",
       " 'ahbg',\n",
       " 'ahbgd',\n",
       " 'ahbgdc',\n",
       " '',\n",
       " 'h',\n",
       " 'hb',\n",
       " 'hbg',\n",
       " 'hbgd',\n",
       " 'hbgdc',\n",
       " '',\n",
       " 'b',\n",
       " 'bg',\n",
       " 'bgd',\n",
       " 'bgdc',\n",
       " '',\n",
       " 'g',\n",
       " 'gd',\n",
       " 'gdc',\n",
       " '',\n",
       " 'd',\n",
       " 'dc',\n",
       " '',\n",
       " 'c',\n",
       " '']"
      ]
     },
     "execution_count": 41,
     "metadata": {},
     "output_type": "execute_result"
    }
   ],
   "source": [
    "subsequences   ## Seee bro you haven't find all the subsequesnces, only\n",
    "## we are able to find the subsequences that are in consecutive order not in random order"
   ]
  },
  {
   "cell_type": "code",
   "execution_count": 35,
   "id": "f8360281-22f6-48d5-8002-54a6f8bb9062",
   "metadata": {
    "canvas": {
     "comments": [],
     "componentType": "CodeCell",
     "copiedOriginId": null,
     "diskcache": false,
     "headerColor": "inherit",
     "id": "c076fc37-fa49-4d51-adce-33e15de3701a",
     "isComponent": false,
     "name": "",
     "parents": []
    }
   },
   "outputs": [
    {
     "name": "stdout",
     "output_type": "stream",
     "text": [
      "0 0\n",
      "0 1\n",
      "0 2\n",
      "1 0\n",
      "1 1\n",
      "1 2\n",
      "2 0\n",
      "2 1\n",
      "2 2\n"
     ]
    }
   ],
   "source": [
    "## Note bro it reaches till 2 only, range exclude last value\n",
    "for i in range(3):\n",
    "    for j in range(3):\n",
    "        print(i,j)\n",
    "        subsequences.append(t[i:j])"
   ]
  },
  {
   "cell_type": "code",
   "execution_count": 48,
   "id": "cc5a7803-3687-448f-bf25-b32ed58c6803",
   "metadata": {
    "canvas": {
     "comments": [],
     "componentType": "CodeCell",
     "copiedOriginId": null,
     "diskcache": false,
     "headerColor": "inherit",
     "id": "42fece6f-e690-4661-8a3a-fb3711f5e02f",
     "isComponent": false,
     "name": "",
     "parents": []
    }
   },
   "outputs": [],
   "source": [
    "## O(n) solution  efficiet solution\n",
    "## Using two pinter concept\n",
    "# It is foundation for DP rpgramming problems\n",
    "## I will be maintaining two pinters i,j\n",
    "def IsSubsequence_1(s:str,t:str):\n",
    "    i,j = 0,0\n",
    "    while i < len(s) and j < len(t):\n",
    "        if s[i] == t[j]:\n",
    "            i+=1\n",
    "        j+=1\n",
    "        \n",
    "    return True if i==len(s) else False\n",
    "    "
   ]
  },
  {
   "cell_type": "code",
   "execution_count": 50,
   "id": "49b14ba7-f4ef-4d26-a431-61cb49873ee9",
   "metadata": {
    "canvas": {
     "comments": [],
     "componentType": "CodeCell",
     "copiedOriginId": null,
     "diskcache": false,
     "headerColor": "inherit",
     "id": "90489204-2883-445e-83d8-0e6e7cc64887",
     "isComponent": false,
     "name": "",
     "parents": []
    }
   },
   "outputs": [
    {
     "data": {
      "text/plain": [
       "True"
      ]
     },
     "execution_count": 50,
     "metadata": {},
     "output_type": "execute_result"
    }
   ],
   "source": [
    "s = \"abc\"\n",
    "t = \"ahbgdc\"\n",
    "IsSubsequence_1(s,t)"
   ]
  },
  {
   "cell_type": "code",
   "execution_count": 51,
   "id": "ca655734-d9ed-4988-96a8-88e689fad8c2",
   "metadata": {
    "canvas": {
     "comments": [],
     "componentType": "CodeCell",
     "copiedOriginId": null,
     "diskcache": false,
     "headerColor": "inherit",
     "id": "b6d4e564-192f-4b90-a0cb-7bbb4b62b3fd",
     "isComponent": false,
     "name": "",
     "parents": []
    }
   },
   "outputs": [
    {
     "data": {
      "text/plain": [
       "False"
      ]
     },
     "execution_count": 51,
     "metadata": {},
     "output_type": "execute_result"
    }
   ],
   "source": [
    "s = \"axc\"\n",
    "t = \"ahbgdc\"\n",
    "IsSubsequence_1(s,t)"
   ]
  },
  {
   "cell_type": "code",
   "execution_count": null,
   "id": "70b530f5-eb1f-46ab-bd68-10b414f5b093",
   "metadata": {
    "canvas": {
     "comments": [],
     "componentType": "CodeCell",
     "copiedOriginId": null,
     "diskcache": false,
     "headerColor": "inherit",
     "id": "21f0bedf-d510-44fd-91b2-7d254a849c6a",
     "isComponent": false,
     "name": "",
     "parents": []
    }
   },
   "outputs": [],
   "source": []
  }
 ],
 "metadata": {
  "canvas": {
   "colorPalette": [
    "inherit",
    "inherit",
    "inherit",
    "inherit",
    "inherit",
    "inherit",
    "inherit",
    "inherit",
    "inherit",
    "inherit"
   ],
   "parameters": [],
   "version": "1.0"
  },
  "kernelspec": {
   "display_name": "Python 3 (ipykernel)",
   "language": "python",
   "name": "python3"
  },
  "language_info": {
   "codemirror_mode": {
    "name": "ipython",
    "version": 3
   },
   "file_extension": ".py",
   "mimetype": "text/x-python",
   "name": "python",
   "nbconvert_exporter": "python",
   "pygments_lexer": "ipython3",
   "version": "3.8.8"
  }
 },
 "nbformat": 4,
 "nbformat_minor": 5
}
