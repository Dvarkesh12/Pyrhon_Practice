{
 "cells": [
  {
   "cell_type": "code",
   "execution_count": 3,
   "id": "5824a086-c191-4948-9835-b0b419560885",
   "metadata": {
    "canvas": {
     "comments": [],
     "componentType": "CodeCell",
     "copiedOriginId": null,
     "diskcache": false,
     "headerColor": "inherit",
     "id": "882e74f5-6117-40a6-aef1-0afa66a0b2ec",
     "isComponent": false,
     "name": "",
     "parents": []
    }
   },
   "outputs": [],
   "source": [
    "# import all neccessary libraries\n",
    "import numpy as np\n",
    "from openpyxl import load_workbook\n",
    "import xlsxwriter\n",
    "import pandas as pd\n",
    "import statistics\n",
    "import seaborn as sns\n",
    "import matplotlib.pyplot as plt\n",
    "from matplotlib.patches import Patch\n",
    "from matplotlib.ticker import MaxNLocator\n",
    "%matplotlib inline\n",
    "# color palette\n",
    "palt = sns.color_palette(\"tab10\")\n",
    "\n",
    "# plot configuration\n",
    "options = {\"ytick.color\" : \"black\",\n",
    "          \"xtick.color\" : \"black\",\n",
    "          'xtick.labelsize':20,\n",
    "          'ytick.labelsize':20,\n",
    "          \"axes.labelcolor\" : \"black\",\n",
    "          \"axes.edgecolor\" : \"black\",\n",
    "          'legend.title_fontsize':20,\n",
    "          \"text.usetex\" : True,\n",
    "          \"font.size\": 20,\n",
    "          \"font.family\" : \"serif\",\n",
    "          \"font.serif\" : [\"Computer Modern Serif\"]}\n",
    "\n",
    "plt.rcParams.update(options)"
   ]
  },
  {
   "cell_type": "code",
   "execution_count": 4,
   "id": "9534a543-a1cf-4ff9-b363-b0e26e96e927",
   "metadata": {
    "canvas": {
     "comments": [],
     "componentType": "CodeCell",
     "copiedOriginId": null,
     "diskcache": false,
     "headerColor": "inherit",
     "id": "266d936f-a320-48fa-9d21-5243edc83f07",
     "isComponent": false,
     "name": "",
     "parents": []
    }
   },
   "outputs": [
    {
     "data": {
      "image/png": "[encoded data removed]",
      "text/plain": [
       "<Figure size 720x720 with 4 Axes>"
      ]
     },
     "metadata": {
      "needs_background": "light"
     },
     "output_type": "display_data"
    }
   ],
   "source": [
    "#################################################################################################\n",
    "  # CODE 8 : State Elctricity Justification  (Four states )\n",
    "##################################################################################################\n",
    "\n",
    "# Initilase the figure having two rows and two columns ( four subplots)\n",
    "fig, axes = plt.subplots(2, 2, figsize=(10,10),  sharex=True)\n",
    "\n",
    "# Fix the bin size as 4 on y axis.\n",
    "for ax in axes.flat:\n",
    "    ax.yaxis.set_major_locator(MaxNLocator(nbins=5))\n",
    "    ax.xaxis.set_major_locator(MaxNLocator(nbins=5))\n",
    "    \n",
    "cities = ['pune','delhi','ahmedabad','chennai']\n",
    "states = ['MH','DE','GJ','TN']\n",
    "state_names = ['Maharashtra','Delhi','Gujarat','Tamilnadu']\n",
    "for number,city in enumerate(cities):\n",
    "    state = states[cities.index(city)]\n",
    "    # k and m determine the location of subplots\n",
    "    k, m = number//2, number % 2\n",
    "\n",
    "    POSCO_CEIC_csv =  pd.read_excel(f'{state}_POSCO_CEIC.xlsx')\n",
    "    POSCO_CEIC_actual  = pd.DataFrame(POSCO_CEIC_csv, columns=[\"Year (y)\",\"POSCO (E_S in GWh)\",\"CEIC (E_S in GWh)\"])\n",
    "    simulated_state_ele_con = POSCO_CEIC_actual['POSCO (E_S in GWh)'].values\n",
    "    actual_state_ele_con = POSCO_CEIC_actual['CEIC (E_S in GWh)'].values\n",
    "    print(simulated_state_ele_con)\n",
    "    print(actual_state_ele_con)\n",
    "\n",
    "    # slice the original data only upto year 2010 to 2019 to compare with avilable data\n",
    "   \n",
    "    POSCO_CEIC_actual['Year (y)'] = POSCO_CEIC_actual['Year (y)'].astype(int)\n",
    "    POSCO_CEIC_actual['POSCO (E_S in GWh)'] =POSCO_CEIC_actual['POSCO (E_S in GWh)'].multiply(1e-2)\n",
    "    POSCO_CEIC_actual['CEIC (E_S in GWh)'] = POSCO_CEIC_actual['CEIC (E_S in GWh)'].multiply(1e-2)\n",
    "    # print(POSCO_CEIC_actual)\n",
    "    POSCO_CEIC_actual.plot(x=\"Year (y)\", y=[\"POSCO (E_S in GWh)\",\"CEIC (E_S in GWh)\"],linewidth = 3, ax=axes[k, m],legend=False)\n",
    "     # set y lim by finding min and max value of y axis of particular city.\n",
    "    if state != 'Delhi':\n",
    "        mini_value = roundup_floor(min(POSCO_CEIC_actual['POSCO (E_S in GWh)'].min(),POSCO_CEIC_actual['CEIC (E_S in GWh)'].min()))\n",
    "        maxi_value = roundup_ceil(max(POSCO_CEIC_actual['POSCO (E_S in GWh)'].max(),POSCO_CEIC_actual['CEIC (E_S in GWh)'].max()))                        \n",
    "    else:\n",
    "        mini_value = math.floor(min(POSCO_CEIC_actual['POSCO (E_S in GWh)'].min(),POSCO_CEIC_actual['CEIC (E_S in GWh)'].min()))\n",
    "        maxi_value = math.ceil(max(POSCO_CEIC_actual['POSCO (E_S in GWh)'].max(),POSCO_CEIC_actual['CEIC (E_S in GWh)'].max()))                        \n",
    "    #     print(state)   \n",
    "    #     print(mini_value)\n",
    "    #     print(maxi_value)\n",
    "    \n",
    "    # set title of city\n",
    "    axes[k,m].set_title(state_names[cities.index(city)])\n",
    "    axes[k,m].set(xlabel=None, ylabel=None)\n",
    "    axes[k,m].set_ylim(mini_value-5, maxi_value+5)\n",
    "    print(state)\n",
    "    y_truth = actual_state_ele_con\n",
    "    print(\"y_truth\",y_truth,len(y_truth))\n",
    "    y_pred = simulated_state_ele_con\n",
    "    print(\"y_pred\",y_pred, len(y_pred))\n",
    "    from sklearn.metrics import r2_score\n",
    "    print(\"Test Score: \",round(r2_score(y_truth, y_pred ),2))\n",
    "    \n",
    "# Legend\n",
    "AE = Patch(color=palt[0], label='Actual Electrcity Consumption')\n",
    "SE = Patch(color=palt[1], label='Simulated Electrcity Consumption')\n",
    "\n",
    "plt.legend(handles=[AE, SE], bbox_to_anchor=(0.9, 2.3),\n",
    "           borderaxespad=-1.5, ncol=2, frameon=False)\n",
    "\n",
    "plt.subplots_adjust(left=0.125, wspace=0.17, hspace=0.18, bottom=0.1)\n",
    "fig.supxlabel('Year')\n",
    "fig.supylabel('Electrcity Consumption ($\\\\times 10^2$, in GWh)')\n",
    "fig.savefig(f'3. realistic model/figures/state_electrcity_justification_4_states.png', bbox_inches='tight', pad_inches=0.1, dpi=250)\n",
    "plt.show()"
   ]
  },
  {
   "cell_type": "code",
   "execution_count": 11,
   "id": "d2af0fd9-c526-4140-a3f7-41e9c8a645fc",
   "metadata": {
    "canvas": {
     "comments": [],
     "componentType": "CodeCell",
     "copiedOriginId": null,
     "diskcache": false,
     "headerColor": "inherit",
     "id": "96e34577-d147-4a8d-8a23-b0017da64909",
     "isComponent": false,
     "name": "",
     "parents": []
    }
   },
   "outputs": [],
   "source": [
    "STATE = 'MH'\n",
    "state_electrcity_simulation_actual_csv =  pd.read_excel(f'{STATE}_POSCO_CEIC.xlsx')\n",
    "state_electrcity_simulation_actual  = pd.DataFrame(state_electrcity_simulation_actual_csv, columns=[\"Year (y)\",\"POSCO (E_S in GWh)\",\"CEIC (E_S in GWh)\"])"
   ]
  },
  {
   "cell_type": "code",
   "execution_count": 12,
   "id": "181514d7-3917-4cba-9c1f-f5166068b273",
   "metadata": {
    "canvas": {
     "comments": [],
     "componentType": "CodeCell",
     "copiedOriginId": null,
     "diskcache": false,
     "headerColor": "inherit",
     "id": "812801ae-1153-4100-ad99-70b97c130acb",
     "isComponent": false,
     "name": "",
     "parents": []
    }
   },
   "outputs": [
    {
     "data": {
      "text/html": [
       "<div>\n",
       "<style scoped>\n",
       "    .dataframe tbody tr th:only-of-type {\n",
       "        vertical-align: middle;\n",
       "    }\n",
       "\n",
       "    .dataframe tbody tr th {\n",
       "        vertical-align: top;\n",
       "    }\n",
       "\n",
       "    .dataframe thead th {\n",
       "        text-align: right;\n",
       "    }\n",
       "</style>\n",
       "<table border=\"1\" class=\"dataframe\">\n",
       "  <thead>\n",
       "    <tr style=\"text-align: right;\">\n",
       "      <th></th>\n",
       "      <th>Year (y)</th>\n",
       "      <th>POSCO (E_S in GWh)</th>\n",
       "      <th>CEIC (E_S in GWh)</th>\n",
       "    </tr>\n",
       "  </thead>\n",
       "  <tbody>\n",
       "    <tr>\n",
       "      <th>0</th>\n",
       "      <td>2013</td>\n",
       "      <td>104913.2</td>\n",
       "      <td>100285.15</td>\n",
       "    </tr>\n",
       "    <tr>\n",
       "      <th>1</th>\n",
       "      <td>2014</td>\n",
       "      <td>106068.7</td>\n",
       "      <td>100842.25</td>\n",
       "    </tr>\n",
       "    <tr>\n",
       "      <th>2</th>\n",
       "      <td>2015</td>\n",
       "      <td>113639.5</td>\n",
       "      <td>108496.08</td>\n",
       "    </tr>\n",
       "    <tr>\n",
       "      <th>3</th>\n",
       "      <td>2016</td>\n",
       "      <td>121225.9</td>\n",
       "      <td>115355.69</td>\n",
       "    </tr>\n",
       "    <tr>\n",
       "      <th>4</th>\n",
       "      <td>2017</td>\n",
       "      <td>127942.7</td>\n",
       "      <td>121050.81</td>\n",
       "    </tr>\n",
       "  </tbody>\n",
       "</table>\n",
       "</div>"
      ],
      "text/plain": [
       "   Year (y)  POSCO (E_S in GWh)  CEIC (E_S in GWh)\n",
       "0      2013            104913.2          100285.15\n",
       "1      2014            106068.7          100842.25\n",
       "2      2015            113639.5          108496.08\n",
       "3      2016            121225.9          115355.69\n",
       "4      2017            127942.7          121050.81"
      ]
     },
     "execution_count": 12,
     "metadata": {},
     "output_type": "execute_result"
    }
   ],
   "source": [
    "state_electrcity_simulation_actual"
   ]
  },
  {
   "cell_type": "code",
   "execution_count": null,
   "id": "a88b569e-41b3-4845-ab28-c9300aaf8022",
   "metadata": {
    "canvas": {
     "comments": [],
     "componentType": "CodeCell",
     "copiedOriginId": null,
     "diskcache": false,
     "headerColor": "inherit",
     "id": "62b53295-d1bc-437c-99ea-fee184134afe",
     "isComponent": false,
     "name": "",
     "parents": []
    }
   },
   "outputs": [],
   "source": []
  }
 ],
 "metadata": {
  "canvas": {
   "colorPalette": [
    "inherit",
    "inherit",
    "inherit",
    "inherit",
    "inherit",
    "inherit",
    "inherit",
    "inherit",
    "inherit",
    "inherit"
   ],
   "parameters": []
  },
  "kernelspec": {
   "display_name": "Python 3 (ipykernel)",
   "language": "python",
   "name": "python3"
  },
  "language_info": {
   "codemirror_mode": {
    "name": "ipython",
    "version": 3
   },
   "file_extension": ".py",
   "mimetype": "text/x-python",
   "name": "python",
   "nbconvert_exporter": "python",
   "pygments_lexer": "ipython3",
   "version": "3.8.8"
  }
 },
 "nbformat": 4,
 "nbformat_minor": 5
}
